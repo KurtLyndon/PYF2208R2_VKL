{
 "cells": [
  {
   "cell_type": "markdown",
   "id": "011caa05",
   "metadata": {},
   "source": [
    "Bài 16 link https://v1study.com/python-bai-tap-bai-tap-phan-class.html"
   ]
  },
  {
   "cell_type": "code",
   "execution_count": 14,
   "id": "65e9b66b",
   "metadata": {},
   "outputs": [
    {
     "name": "stdout",
     "output_type": "stream",
     "text": [
      "Put in new battery with energy 15\n",
      "Try to turn on\n",
      "Light on\n",
      "Energy left = 13\n",
      "Turn off\n",
      "Energy left = 13\n",
      "Try to turn on\n",
      "Light on\n",
      "Energy left = 11\n",
      "Turn off\n",
      "Energy left = 11\n",
      "Try to turn on\n",
      "Light on\n",
      "Energy left = 9\n",
      "Turn off\n",
      "Energy left = 9\n",
      "Try to turn on\n",
      "Light on\n",
      "Energy left = 7\n",
      "Turn off\n",
      "Energy left = 7\n",
      "Try to turn on\n",
      "Light on\n",
      "Energy left = 5\n",
      "Turn off\n",
      "Energy left = 5\n",
      "Try to turn on\n",
      "Light on\n",
      "Energy left = 3\n",
      "Turn off\n",
      "Energy left = 3\n",
      "Try to turn on\n",
      "Light on\n",
      "Energy left = 1\n",
      "Turn off\n",
      "Energy left = 1\n",
      "Try to turn on\n",
      "Light off\n",
      "Energy left = 0\n",
      "Turn off\n",
      "Energy left = 0\n",
      "Try to turn on\n",
      "Light off\n",
      "Energy left = 0\n",
      "Turn off\n",
      "Energy left = 0\n",
      "Try to turn on\n",
      "Light off\n",
      "Energy left = 0\n",
      "Turn off\n",
      "Energy left = 0\n"
     ]
    }
   ],
   "source": [
    "class Battery():\n",
    "    energy = \"\"\n",
    "    def __init__(self):\n",
    "        self.energy = 10\n",
    "        \n",
    "    def setEnergy(self, energy = 10):\n",
    "        self.energy = energy\n",
    "        \n",
    "    def getEnergy(self):\n",
    "        print(f\"Energy left = {self.energy}\")\n",
    "        \n",
    "    def decreaseEnergy(self):\n",
    "        self.energy = self.energy - 2\n",
    "        if(self.energy < 0):\n",
    "            self.energy = 0\n",
    "    \n",
    "    \n",
    "class FlashLamp():\n",
    "    status = False\n",
    "    battery = Battery()\n",
    "    \n",
    "    def __init__(self):\n",
    "        self.status = False\n",
    "        battery = Battery()\n",
    "        \n",
    "    def setBattery(self, battery):\n",
    "        print(f\"Put in new battery with energy {battery.energy}\")\n",
    "        self.battery.setEnergy(battery.energy)\n",
    "    \n",
    "    def getBatteryInfo(self):\n",
    "        self.battery.getEnergy()\n",
    "        \n",
    "    def turnOn(self):\n",
    "        print(\"Try to turn on\")\n",
    "        self.status = True\n",
    "        self.battery.decreaseEnergy()\n",
    "        if(self.battery.energy > 0):\n",
    "            print(\"Light on\")\n",
    "        else:\n",
    "            print(\"Light off\")\n",
    "            \n",
    "    def turnOff(self):\n",
    "        print(\"Turn off\")\n",
    "        self.status = False\n",
    "        \n",
    "class TestFlashLamp():\n",
    "    def main():\n",
    "        b = Battery()\n",
    "        b.setEnergy(15)\n",
    "        flash = FlashLamp()\n",
    "        flash.setBattery(b)\n",
    "        for i in range(10):\n",
    "            flash.turnOn()\n",
    "            flash.getBatteryInfo()\n",
    "            flash.turnOff()\n",
    "            flash.getBatteryInfo()\n",
    "TestFlashLamp.main()"
   ]
  },
  {
   "cell_type": "code",
   "execution_count": 5,
   "id": "cc33618a",
   "metadata": {},
   "outputs": [
    {
     "name": "stdout",
     "output_type": "stream",
     "text": [
      "input text:Ha Nội\n",
      "True\n"
     ]
    }
   ],
   "source": [
    "text = input(\"input text:\")\n",
    "index =0\n",
    "answer = False\n",
    "while index < len(text):\n",
    "    if (text[index]=='a' or text[index]=='A'):\n",
    "        answer = True\n",
    "        break\n",
    "    index +=1\n",
    "print(answer)"
   ]
  }
 ],
 "metadata": {
  "kernelspec": {
   "display_name": "Python 3 (ipykernel)",
   "language": "python",
   "name": "python3"
  },
  "language_info": {
   "codemirror_mode": {
    "name": "ipython",
    "version": 3
   },
   "file_extension": ".py",
   "mimetype": "text/x-python",
   "name": "python",
   "nbconvert_exporter": "python",
   "pygments_lexer": "ipython3",
   "version": "3.10.6"
  }
 },
 "nbformat": 4,
 "nbformat_minor": 5
}
