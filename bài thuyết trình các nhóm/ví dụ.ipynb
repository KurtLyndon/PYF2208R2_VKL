{
 "cells": [
  {
   "cell_type": "markdown",
   "id": "fc1c941e",
   "metadata": {},
   "source": [
    "## xóa một phần tử trong mảng"
   ]
  },
  {
   "cell_type": "code",
   "execution_count": 43,
   "id": "6e19257b",
   "metadata": {
    "scrolled": true
   },
   "outputs": [
    {
     "name": "stdout",
     "output_type": "stream",
     "text": [
      "danh sách trước khi xóa:  ['red', 'pink', 'yellow', 'black', 'blue']\n",
      "danh sách sau khi xóa:  ['red', 'pink', 'black', 'blue']\n"
     ]
    }
   ],
   "source": [
    "# tạo một danh sách\n",
    "lst = ['red', 'pink', 'yellow', 'black' , 'blue']\n",
    "print ('danh sách trước khi xóa: ', lst)\n",
    "# hàm xóa phần tử mảng.\n",
    "lst.remove('yellow')\\\n",
    "# in ra kết quả\n",
    "print('danh sách sau khi xóa: ',lst)"
   ]
  },
  {
   "cell_type": "markdown",
   "id": "53cd6493",
   "metadata": {},
   "source": [
    "## thêm một phần tử vào mảng"
   ]
  },
  {
   "cell_type": "code",
   "execution_count": 3,
   "id": "4b360237",
   "metadata": {
    "scrolled": true
   },
   "outputs": [
    {
     "name": "stdout",
     "output_type": "stream",
     "text": [
      "danh sách trước khi thêm:  ['red', 'pink', 'blue']\n",
      "danh sách sau khi đã thêm:  ['red', 'pink', 'blue', 'black']\n"
     ]
    }
   ],
   "source": [
    "# Một danh sách được tạo sẵn\n",
    "lst = ['red', 'pink', 'blue']\n",
    "print ('danh sách trước khi thêm: ', lst)\n",
    "# Hàm sẽ thêm 1 phần tử vào danh sách\n",
    "def add(mylist):\n",
    "    mylist += [\"black\"]\n",
    "    print('danh sách sau khi đã thêm: ', lst)\n",
    "#In ra kết quả\n",
    "add(lst)"
   ]
  },
  {
   "cell_type": "code",
   "execution_count": null,
   "id": "1ea2673f",
   "metadata": {},
   "outputs": [
    {
     "name": "stdout",
     "output_type": "stream",
     "text": [
      "  KÍNH CHÀO QUÝ KHÁCH\n",
      "menu ^^\n",
      "1, sôi \n",
      "2, bánh mỳ \n",
      "3, cháo \n",
      "4, phở\n",
      "5, mì\n",
      "6, sữa\n",
      "7, coca\n",
      "8, khong oder\n",
      "quý khách vui lòng chọn món: 5\n",
      "vui lòng nhập số lượng: 4\n",
      "quý khách có muốn oder thêm không ạ(yes or no): yes\n",
      "quý khách vui lòng chọn món: 4\n",
      "vui lòng nhập số lượng: 4\n",
      "quý khách có muốn oder thêm không ạ(yes or no): no\n",
      "thanks\n"
     ]
    }
   ],
   "source": [
    "## oder\n",
    "print ('  KÍNH CHÀO QUÝ KHÁCH')\n",
    "print ('menu ^^')\n",
    "print ('1, sôi ' )\n",
    "print ('2, bánh mỳ ')\n",
    "print ('3, cháo ')\n",
    "print ('4, phở')\n",
    "print ('5, mì')\n",
    "print ('6, sữa')\n",
    "print ('7, coca')\n",
    "print ('8, khong oder')\n",
    "n = int (input ('quý khách vui lòng chọn món: '))\n",
    "def oder():\n",
    "    while n <= 7 :\n",
    "        d = int (input ('vui lòng nhập số lượng: '))\n",
    "        v = str (input ('quý khách có muốn oder thêm không ạ(yes or no): '))\n",
    "        if v == 'yes':\n",
    "            b = int (input ('quý khách vui lòng chọn món: '))\n",
    "            i = int (input ('vui lòng nhập số lượng: '))\n",
    "            j = str (input ('quý khách có muốn oder thêm không ạ(yes or no): '))\n",
    "            if j == 'yes':\n",
    "                o = int (input ('quý khách có muốn oder thêm không ạ(yes or no): '))\n",
    "            else:\n",
    "                print ('thanks') \n",
    "        else:\n",
    "            print ('thanks') \n",
    "    print ('thanks')\n",
    "oder()"
   ]
  },
  {
   "cell_type": "markdown",
   "id": "3490d905",
   "metadata": {},
   "source": [
    "## Vẽ hình vuông sử dụng hàm (code gym)"
   ]
  },
  {
   "cell_type": "code",
   "execution_count": 1,
   "id": "4687a807",
   "metadata": {},
   "outputs": [],
   "source": [
    "import turtle\n",
    "\n",
    "t = turtle.Turtle()\n",
    "t.hideturtle()\n",
    "t.pencolor('red')\n",
    "\n",
    "def square_draw(w):\n",
    "    for i in range(4):\n",
    "        t.forward(w)\n",
    "        t.right(90)\n",
    "    turtle.done()\n",
    "    \n",
    "square_draw(100)"
   ]
  },
  {
   "cell_type": "markdown",
   "id": "a788d74a",
   "metadata": {},
   "source": [
    "## hiển thị danh sách yêu thích (code gym)"
   ]
  },
  {
   "cell_type": "code",
   "execution_count": 4,
   "id": "d29252d1",
   "metadata": {},
   "outputs": [
    {
     "name": "stdout",
     "output_type": "stream",
     "text": [
      "Fruits outside function ['Orange', 'Apple', 'Grapes', 'Mango']\n"
     ]
    }
   ],
   "source": [
    "fruits = [\"Orange\", \"Apple\", \"Grapes\"]\n",
    "\n",
    "def add_fruit(fruits, fruit_to_add):    \n",
    "    fruits.append(fruit_to_add)    \n",
    "    \n",
    "fruit_to_add = \"Mango\"\n",
    "add_fruit(fruits, fruit_to_add)\n",
    "\n",
    "print('Fruits outside function', fruits)"
   ]
  },
  {
   "cell_type": "markdown",
   "id": "83d53bdb",
   "metadata": {},
   "source": [
    "## bài tập tạo máy tính (code gym)"
   ]
  },
  {
   "cell_type": "code",
   "execution_count": 52,
   "id": "55634d9f",
   "metadata": {},
   "outputs": [
    {
     "name": "stdout",
     "output_type": "stream",
     "text": [
      "Enter first number: 4\n",
      "Enter second number: 5\n",
      "Enter the operation +, -, *, / : -\n",
      "4 - 5 = -1\n"
     ]
    }
   ],
   "source": [
    "# nhập dữ liệu để tính toán.\n",
    "number_1 = int(input(\"Enter first number: \"))\n",
    "number_2 = int(input(\"Enter second number: \"))\n",
    "option = input(\"Enter the operation +, -, *, / : \")\n",
    "# hàm tính toán\n",
    "def add(num1, num2):\n",
    "    return num1 + num2\n",
    "  \n",
    "def subtract(num1, num2):\n",
    "    return num1 - num2\n",
    "  \n",
    "def multiply(num1, num2):\n",
    "    return num1 * num2\n",
    "\n",
    "def divide(num1, num2):\n",
    "    return num1 / num2\n",
    "if option == '+':\n",
    "    print(number_1, \"+\", number_2, \"=\", add(number_1, number_2))\n",
    "  \n",
    "elif option == '-':\n",
    "    print(number_1, \"-\", number_2, \"=\", subtract(number_1, number_2))\n",
    "  \n",
    "elif option == '*':\n",
    "    print(number_1, \"*\", number_2, \"=\", multiply(number_1, number_2))\n",
    "  \n",
    "elif option == '/':\n",
    "    print(number_1, \"/\", number_2, \"=\", divide(number_1, number_2))\n",
    "    \n",
    "else:\n",
    "    print(\"Invalid input\")"
   ]
  }
 ],
 "metadata": {
  "kernelspec": {
   "display_name": "Python 3 (ipykernel)",
   "language": "python",
   "name": "python3"
  },
  "language_info": {
   "codemirror_mode": {
    "name": "ipython",
    "version": 3
   },
   "file_extension": ".py",
   "mimetype": "text/x-python",
   "name": "python",
   "nbconvert_exporter": "python",
   "pygments_lexer": "ipython3",
   "version": "3.10.6"
  }
 },
 "nbformat": 4,
 "nbformat_minor": 5
}
