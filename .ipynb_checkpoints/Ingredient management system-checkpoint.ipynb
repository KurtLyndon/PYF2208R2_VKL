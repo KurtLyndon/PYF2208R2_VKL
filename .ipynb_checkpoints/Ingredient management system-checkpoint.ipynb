{
 "cells": [
  {
   "cell_type": "code",
   "execution_count": null,
   "id": "d8c9b331",
   "metadata": {},
   "outputs": [
    {
     "name": "stderr",
     "output_type": "stream",
     "text": [
      "Exception in Tkinter callback\n",
      "Traceback (most recent call last):\n",
      "  File \"C:\\Users\\Dell 7559\\AppData\\Local\\Programs\\Python\\Python310\\lib\\tkinter\\__init__.py\", line 1921, in __call__\n",
      "    return self.func(*args)\n",
      "  File \"C:\\Users\\Dell 7559\\AppData\\Local\\Temp\\ipykernel_13236\\2478035683.py\", line 24, in reset_function\n",
      "    name_entry.config(state= \"enabled\")\n",
      "  File \"C:\\Users\\Dell 7559\\AppData\\Local\\Programs\\Python\\Python310\\lib\\tkinter\\__init__.py\", line 1675, in configure\n",
      "    return self._configure('configure', cnf, kw)\n",
      "  File \"C:\\Users\\Dell 7559\\AppData\\Local\\Programs\\Python\\Python310\\lib\\tkinter\\__init__.py\", line 1665, in _configure\n",
      "    self.tk.call(_flatten((self._w, cmd)) + self._options(cnf))\n",
      "_tkinter.TclError: bad state \"enabled\": must be disabled, normal, or readonly\n"
     ]
    }
   ],
   "source": [
    "from tkinter import *\n",
    "from tkinter import messagebox\n",
    "\n",
    "window = Tk()\n",
    "window.title(\"Ingredient Management System\")\n",
    "\n",
    "name_lbl = Label(window, text = \"Name:\")\n",
    "quantity_lbl = Label(window, text = \"Quantity:\")\n",
    "search_lbl = Label(window, text = \"Search:\")\n",
    "\n",
    "name_entry = Entry(window)\n",
    "quantity_entry = Entry(window)\n",
    "search_entry = Entry(window)\n",
    "\n",
    "def insert_function():\n",
    "    messagebox.showinfo(\"User info\", f\"My name is {name.get()} {name.get()}\")\n",
    "    \n",
    "def delete_function():\n",
    "    messagebox.showinfo(\"User info\", f\"My name is {name.get()} {name.get()}\")\n",
    "    \n",
    "def reset_function():\n",
    "    name_entry.delete(0,\"end\")\n",
    "    quantity_entry.delete(0,\"end\")\n",
    "    name_entry.config(state= \"enabled\")\n",
    "    quantity_entry.config(state= \"enabled\")\n",
    "    \n",
    "def search_function():\n",
    "    \n",
    "    name_entry.config(state= \"disabled\")\n",
    "    quantity_entry.config(state= \"disabled\")\n",
    "    messagebox.showinfo(\"User info\", f\"My name is {name.get()} {name.get()}\")\n",
    "    \n",
    "add_btn = Button(window, text = \"Add\", command = insert_function)\n",
    "delete_btn = Button(window, text = \"Delete\", command = delete_function)\n",
    "reset_btn = Button(window, text = \"Reset\", command = reset_function)\n",
    "search_btn = Button(window, text = \"Search\", command = search_function)\n",
    "\n",
    "name_lbl.grid(row = 0, column = 0)\n",
    "name_entry.grid(row = 0, column = 1, columnspan = 2)\n",
    "\n",
    "quantity_lbl.grid(row = 1, column = 0)\n",
    "quantity_entry.grid(row = 1, column = 1)\n",
    "\n",
    "add_btn.grid(row = 2, column = 0)\n",
    "reset_btn.grid(row = 2, column = 1)\n",
    "\n",
    "search_lbl.grid(row = 3, column = 0)\n",
    "search_entry.grid(row = 3, column = 1)\n",
    "\n",
    "search_btn.grid(row = 4, column = 0)\n",
    "delete_btn.grid(row = 4, column = 1)\n",
    "\n",
    "window.mainloop()"
   ]
  }
 ],
 "metadata": {
  "kernelspec": {
   "display_name": "Python 3 (ipykernel)",
   "language": "python",
   "name": "python3"
  },
  "language_info": {
   "codemirror_mode": {
    "name": "ipython",
    "version": 3
   },
   "file_extension": ".py",
   "mimetype": "text/x-python",
   "name": "python",
   "nbconvert_exporter": "python",
   "pygments_lexer": "ipython3",
   "version": "3.10.6"
  }
 },
 "nbformat": 4,
 "nbformat_minor": 5
}
