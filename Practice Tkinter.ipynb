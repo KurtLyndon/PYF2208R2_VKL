{
 "cells": [
  {
   "cell_type": "code",
   "execution_count": 1,
   "id": "ee57424c",
   "metadata": {},
   "outputs": [],
   "source": [
    "from tkinter import *\n",
    "from tkinter import messagebox\n",
    "\n",
    "window = Tk()\n",
    "window.title(\"My intro\")\n",
    "\n",
    "introduction_lbl = Label(window, text = \"My introduction\")\n",
    "firstname_lbl = Label(window, text = \"First name\")\n",
    "lastname_lbl = Label(window, text = \"Last name\")\n",
    "\n",
    "firstname = Entry(window)\n",
    "lastname = Entry(window)\n",
    "\n",
    "def show_intro():\n",
    "    messagebox.showinfo(\"User info\", f\"My name is {firstname.get()} {lastname.get()}\")\n",
    "    \n",
    "summit_btn = Button(window, text = \"Summit\", command = show_intro)\n",
    "\n",
    "introduction_lbl.grid(row = 0, column = 0, columnspan = 2)\n",
    "firstname_lbl.grid(row = 1, column = 0)\n",
    "lastname_lbl.grid(row = 2, column = 0)\n",
    "firstname.grid(row = 1, column = 1)\n",
    "lastname.grid(row = 2, column = 1)\n",
    "summit_btn.grid(row = 3, column = 0, columnspan = 2)\n",
    "\n",
    "window.mainloop()"
   ]
  }
 ],
 "metadata": {
  "kernelspec": {
   "display_name": "Python 3 (ipykernel)",
   "language": "python",
   "name": "python3"
  },
  "language_info": {
   "codemirror_mode": {
    "name": "ipython",
    "version": 3
   },
   "file_extension": ".py",
   "mimetype": "text/x-python",
   "name": "python",
   "nbconvert_exporter": "python",
   "pygments_lexer": "ipython3",
   "version": "3.10.6"
  }
 },
 "nbformat": 4,
 "nbformat_minor": 5
}
