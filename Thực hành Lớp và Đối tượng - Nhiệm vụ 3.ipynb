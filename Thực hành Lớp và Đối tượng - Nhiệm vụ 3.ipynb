{
 "cells": [
  {
   "cell_type": "code",
   "execution_count": null,
   "id": "a42fa0c7",
   "metadata": {},
   "outputs": [],
   "source": [
    "\"\"\"\n",
    "Tạo class có tên SoHoc gồm có các thuộc tính và phương thức sau:\n",
    "+ Thuộc tính: number1, number2\n",
    "+ Phương thức:\n",
    "- Phương thức tạo __init()__\n",
    "- Các phương thức get, set cho tất cả các thuộc tính\n",
    "- input_info(): dùng để nhập 2 số number1, number2\n",
    "- print_info(): dùng để hiển thị number1, number2\n",
    "- addition(): dùng để cộng number1, number2\n",
    "- subtract(): trừ number1, number2\n",
    "- multi(): dùng để nhân number1, number2\n",
    "- division(): dùng để chia number1, number2.\n",
    "\n",
    "Sau khi tạo class, khởi tạo một object SoHoc và in ra kết quả tính toán từ các hàm thực hiện phép tính\n",
    "\"\"\""
   ]
  },
  {
   "cell_type": "code",
   "execution_count": 4,
   "id": "433bd5da",
   "metadata": {},
   "outputs": [
    {
     "name": "stdout",
     "output_type": "stream",
     "text": [
      "15\n",
      "-5\n",
      "50\n",
      "0.5\n"
     ]
    }
   ],
   "source": [
    "class SoHoc():\n",
    "    number1 = 0.0\n",
    "    number2 = 1.0\n",
    "    \n",
    "    def __init__(self, num1 = 0, num2 = 1):\n",
    "        self.number1 = num1\n",
    "        self.number2 = num2\n",
    "        \n",
    "    def print_info(self):\n",
    "        print(f\"number1 = {self.number1}\")\n",
    "        print(f\"number2 = {self.number2}\")\n",
    "        \n",
    "    def input_info(self):\n",
    "        print(\"Nhập SoHoc\")\n",
    "        self.number1 = float(input(\"Nhập number1 = \"))\n",
    "        self.number2 = float(input(\"Nhập number2 = \"))\n",
    "    \n",
    "    def addition(self):\n",
    "        return self.number1 + self.number2\n",
    "    \n",
    "    def subtract(self):\n",
    "        return self.number1 - self.number2\n",
    "    \n",
    "    def multi(self):\n",
    "        return self.number1 * self.number2\n",
    "    \n",
    "    def division(self):\n",
    "        return self.number1 / self.number2\n",
    "        \n",
    "a = SoHoc(5,10)\n",
    "print(a.addition())\n",
    "print(a.subtract())\n",
    "print(a.multi())\n",
    "print(a.division())\n",
    "    "
   ]
  }
 ],
 "metadata": {
  "kernelspec": {
   "display_name": "Python 3 (ipykernel)",
   "language": "python",
   "name": "python3"
  },
  "language_info": {
   "codemirror_mode": {
    "name": "ipython",
    "version": 3
   },
   "file_extension": ".py",
   "mimetype": "text/x-python",
   "name": "python",
   "nbconvert_exporter": "python",
   "pygments_lexer": "ipython3",
   "version": "3.10.6"
  }
 },
 "nbformat": 4,
 "nbformat_minor": 5
}
