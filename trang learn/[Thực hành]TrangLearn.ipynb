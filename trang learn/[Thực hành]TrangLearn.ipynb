{
 "cells": [
  {
   "cell_type": "code",
   "execution_count": 8,
   "id": "afadc6c4",
   "metadata": {},
   "outputs": [
    {
     "name": "stdout",
     "output_type": "stream",
     "text": [
      "Nhập:9\n",
      "Dự đoán sai\n"
     ]
    }
   ],
   "source": [
    "import random\n",
    "n = random.randint(0, 9)\n",
    "m = int(input(\"Nhập:\"))\n",
    "if m == n:\n",
    "    print(\"Dự đoán đúng\")\n",
    "else:\n",
    "    print(\"Dự đoán sai\")"
   ]
  },
  {
   "cell_type": "code",
   "execution_count": 1,
   "id": "f3451bd1",
   "metadata": {},
   "outputs": [
    {
     "name": "stdout",
     "output_type": "stream",
     "text": [
      "Nhập độ C:10\n",
      "50.0\n"
     ]
    }
   ],
   "source": [
    "c = int(input(\"Nhập độ C:\"))\n",
    "f = c/5*9+32\n",
    "print(f)"
   ]
  }
 ],
 "metadata": {
  "kernelspec": {
   "display_name": "Python 3 (ipykernel)",
   "language": "python",
   "name": "python3"
  },
  "language_info": {
   "codemirror_mode": {
    "name": "ipython",
    "version": 3
   },
   "file_extension": ".py",
   "mimetype": "text/x-python",
   "name": "python",
   "nbconvert_exporter": "python",
   "pygments_lexer": "ipython3",
   "version": "3.10.6"
  }
 },
 "nbformat": 4,
 "nbformat_minor": 5
}
