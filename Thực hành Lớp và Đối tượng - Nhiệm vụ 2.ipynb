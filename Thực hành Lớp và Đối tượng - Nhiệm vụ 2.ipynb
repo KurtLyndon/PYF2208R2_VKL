{
 "cells": [
  {
   "cell_type": "code",
   "execution_count": null,
   "id": "1b7705b3",
   "metadata": {},
   "outputs": [],
   "source": [
    "\"\"\"\n",
    "Viết class NhanVien gồm các thuộc tính:\n",
    "+ Tên\n",
    "+ Tuổi\n",
    "+ Địa chỉ\n",
    "+ Tiền lương\n",
    "+ Tổng số giờ làm\n",
    "\n",
    "Và các phương thức:\n",
    "- Phương thức tạo\n",
    "- input_info() : Nhập các thông tin cho nhân viên từ bàn phím\n",
    "- print_info() : In ra tất cả các thông tin của nhân viên\n",
    "- tinh_thuong(): Tính toán và trả về số tiền thưởng của nhân viên theo công thức sau:\n",
    "Nếu tổng số giờ làm của nhân viên >=200 thì thưởng = lương * 20%\n",
    "Nếu tổng số giờ làm của nhân viên <200 và >=100 thì thưởng = lương * 10%\n",
    "Nếu tổng số giờ làm của nhân viên <100 thì thưởng = 0\n",
    "\"\"\""
   ]
  },
  {
   "cell_type": "code",
   "execution_count": 6,
   "id": "3cf0f41d",
   "metadata": {},
   "outputs": [
    {
     "name": "stdout",
     "output_type": "stream",
     "text": [
      "Nhập thông tin nhân viên:\n",
      "Tên:a\n",
      "Tuổi:50\n",
      "Địa chỉ:asdga\n",
      "Lương:150000\n",
      "Tổng số giờ làm:201\n",
      "Thông tin nhân viên:\n",
      "Tên: a\n",
      "Tuổi: 50\n",
      "Địa chỉ: asdga\n",
      "Lương: 150000.0\n",
      "Tổng số giờ làm: 201.0\n",
      "Thưởng: 30000.0\n"
     ]
    }
   ],
   "source": [
    "class Staff:\n",
    "    name=\"\"\n",
    "    age=0\n",
    "    address=\"\"\n",
    "    salary=0.0\n",
    "    working_hours=0.0\n",
    "    \n",
    "    def __init__(self, name = \"chưa có tên\", age = 0, address = \"chưa có địa chỉ\", salary = 0.0, working_hours = 0.0):\n",
    "        self.name = name\n",
    "        self.age = age\n",
    "        self.address = address\n",
    "        self.salary = salary\n",
    "        self.working_hours = working_hours\n",
    "        \n",
    "    def input_info(self):\n",
    "        print(\"Nhập thông tin nhân viên:\")\n",
    "        self.name = input(\"Tên:\")\n",
    "        self.age = int(input(\"Tuổi:\"))\n",
    "        self.address = input(\"Địa chỉ:\")\n",
    "        self.salary = float(input(\"Lương:\"))\n",
    "        self.working_hours = float(input(\"Tổng số giờ làm:\"))\n",
    "        \n",
    "    def print_info(self):\n",
    "        print(\"Thông tin nhân viên:\")\n",
    "        print(f\"Tên: {self.name}\")\n",
    "        print(f\"Tuổi: {self.age}\")\n",
    "        print(f\"Địa chỉ: {self.address}\")\n",
    "        print(f\"Lương: {self.salary}\")\n",
    "        print(f\"Tổng số giờ làm: {self.working_hours}\")\n",
    "    \n",
    "    def tinh_thuong(self):\n",
    "        if(self.working_hours >= 200):\n",
    "            print(\"Thưởng:\", self.salary * 0.2)\n",
    "        elif(self.working_hours >= 100):\n",
    "            print(\"Thưởng:\", self.salary * 0.1)\n",
    "        else:\n",
    "            print(\"Thưởng: 0\")\n",
    "\n",
    "a = Staff()\n",
    "a.input_info()\n",
    "a.print_info()\n",
    "a.tinh_thuong()"
   ]
  }
 ],
 "metadata": {
  "kernelspec": {
   "display_name": "Python 3 (ipykernel)",
   "language": "python",
   "name": "python3"
  },
  "language_info": {
   "codemirror_mode": {
    "name": "ipython",
    "version": 3
   },
   "file_extension": ".py",
   "mimetype": "text/x-python",
   "name": "python",
   "nbconvert_exporter": "python",
   "pygments_lexer": "ipython3",
   "version": "3.10.6"
  }
 },
 "nbformat": 4,
 "nbformat_minor": 5
}
